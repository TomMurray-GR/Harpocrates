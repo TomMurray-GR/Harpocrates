{
  "cell_type": "code",
  "execution_count": null,
  "metadata": {},
  "outputs": [],
  "source": [
    "# TomTestq}zKavZ\\8}v9aS}%{,3O\"uG'KB{$9o",
    "print('Hello, World!')"
  ]
}
